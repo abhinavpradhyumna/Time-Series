{
 "cells": [
  {
   "cell_type": "code",
   "execution_count": 25,
   "id": "702907f8",
   "metadata": {},
   "outputs": [],
   "source": [
    "import pandas as pd\n",
    "import numpy as np\n",
    "import random\n",
    "import matplotlib.pyplot as plt"
   ]
  },
  {
   "cell_type": "code",
   "execution_count": 3,
   "id": "7bf549b1",
   "metadata": {},
   "outputs": [],
   "source": [
    "np.random.seed(42)"
   ]
  },
  {
   "cell_type": "code",
   "execution_count": 4,
   "id": "267fa310",
   "metadata": {},
   "outputs": [],
   "source": [
    "values=np.random.randn(31)"
   ]
  },
  {
   "cell_type": "code",
   "execution_count": 5,
   "id": "3a21c9e0",
   "metadata": {},
   "outputs": [
    {
     "name": "stderr",
     "output_type": "stream",
     "text": [
      "C:\\Users\\abhin\\AppData\\Local\\Temp\\ipykernel_9876\\1188992904.py:1: UserWarning: Parsing dates in DD/MM/YYYY format when dayfirst=False (the default) was specified. This may lead to inconsistently parsed dates! Specify a format to ensure consistent parsing.\n",
      "  data=pd.date_range(start=\"01-01-2024\",end=\"31-01-2024\",freq=\"D\")\n"
     ]
    }
   ],
   "source": [
    "data=pd.date_range(start=\"01-01-2024\",end=\"31-01-2024\",freq=\"D\")"
   ]
  },
  {
   "cell_type": "code",
   "execution_count": 6,
   "id": "dc44e429",
   "metadata": {},
   "outputs": [],
   "source": [
    "df = pd.DataFrame(values,index=data,columns=[\"value\"])"
   ]
  },
  {
   "cell_type": "code",
   "execution_count": 8,
   "id": "32f18d30",
   "metadata": {},
   "outputs": [],
   "source": [
    "df[\"year\"]=df.index.year\n",
    "df[\"month\"]=df.index.month\n",
    "df[\"day\"]=df.index.day"
   ]
  },
  {
   "cell_type": "code",
   "execution_count": 10,
   "id": "cc216680",
   "metadata": {},
   "outputs": [],
   "source": [
    "df[\"lag_1\"]=df[\"value\"].shift(1)"
   ]
  },
  {
   "cell_type": "code",
   "execution_count": 12,
   "id": "c9d703f1",
   "metadata": {},
   "outputs": [],
   "source": [
    "df[\"rolling_mean_1\"]=df[\"value\"].rolling(3).mean()"
   ]
  },
  {
   "cell_type": "code",
   "execution_count": 13,
   "id": "ac6b80ad",
   "metadata": {},
   "outputs": [],
   "source": [
    "df[\"expanding_mean_1\"]=df[\"value\"].expanding(3).mean()"
   ]
  },
  {
   "cell_type": "code",
   "execution_count": 14,
   "id": "24f345b9",
   "metadata": {},
   "outputs": [],
   "source": [
    "upsampled_data=df.resample(\"60min\").asfreq()"
   ]
  },
  {
   "cell_type": "code",
   "execution_count": 15,
   "id": "9abbbe70",
   "metadata": {},
   "outputs": [],
   "source": [
    "interpolated=upsampled_data.interpolate(method=\"linear\")"
   ]
  },
  {
   "cell_type": "code",
   "execution_count": 34,
   "id": "b0b17a96",
   "metadata": {},
   "outputs": [
    {
     "data": {
      "text/plain": [
       "<Axes: ylabel='Frequency'>"
      ]
     },
     "execution_count": 34,
     "metadata": {},
     "output_type": "execute_result"
    },
    {
     "data": {
      "image/png": "[encoded data removed]",
      "text/plain": [
       "<Figure size 640x480 with 1 Axes>"
      ]
     },
     "metadata": {},
     "output_type": "display_data"
    }
   ],
   "source": [
    "df[\"value\"].plot(kind=\"hist\",bins=20)"
   ]
  }
 ],
 "metadata": {
  "kernelspec": {
   "display_name": "Python 3 (ipykernel)",
   "language": "python",
   "name": "python3"
  },
  "language_info": {
   "codemirror_mode": {
    "name": "ipython",
    "version": 3
   },
   "file_extension": ".py",
   "mimetype": "text/x-python",
   "name": "python",
   "nbconvert_exporter": "python",
   "pygments_lexer": "ipython3",
   "version": "3.10.9"
  }
 },
 "nbformat": 4,
 "nbformat_minor": 5
}
